{
 "cells": [
  {
   "cell_type": "code",
   "execution_count": 1,
   "metadata": {
    "collapsed": true
   },
   "outputs": [],
   "source": [
    "import pandas as pd\n",
    "import numpy as np"
   ]
  },
  {
   "cell_type": "code",
   "execution_count": 2,
   "metadata": {},
   "outputs": [],
   "source": [
    "# Read in the data\n",
    "\n",
    "diag_data = pd.read_csv('DiagnosisSample.csv')\n",
    "treat_data = pd.read_csv('TreatmentSample.csv')"
   ]
  },
  {
   "cell_type": "code",
   "execution_count": 3,
   "metadata": {},
   "outputs": [
    {
     "name": "stdout",
     "output_type": "stream",
     "text": [
      "Cancer types:\n",
      "Breast Cancer\n",
      "Colon Cancer\n",
      "\n",
      "Number of patients for each cancer type:\n",
      "Breast cancer = 22\n",
      "Colon cancer = 11\n"
     ]
    }
   ],
   "source": [
    "# Get cancer types and number of patients for each cancer type\n",
    "\n",
    "true_diag_count = diag_data['IsCancerDiagnosis'].value_counts()\n",
    "cancer_diag = diag_data[diag_data['IsCancerDiagnosis']==True]\n",
    "\n",
    "cancer_types = cancer_diag['Diagnosis'].unique()\n",
    "print('Cancer types:')\n",
    "print(cancer_types[0])\n",
    "print(cancer_types[1])\n",
    "      \n",
    "print(\"\")\n",
    "\n",
    "num_patients = cancer_diag['Diagnosis'].value_counts()\n",
    "print(\"Number of patients for each cancer type:\")\n",
    "print(\"Breast cancer =\",num_patients[0])\n",
    "print(\"Colon cancer =\",num_patients[1])"
   ]
  },
  {
   "cell_type": "code",
   "execution_count": 9,
   "metadata": {},
   "outputs": [
    {
     "name": "stdout",
     "output_type": "stream",
     "text": [
      "    PatientID     CancerType DaysToTreatment\n",
      "0        2038  Breast Cancer          3 days\n",
      "1        2120  Breast Cancer         15 days\n",
      "2        2175  Breast Cancer          4 days\n",
      "3        2407  Breast Cancer          6 days\n",
      "4        2425  Breast Cancer          4 days\n",
      "5        2462  Breast Cancer          4 days\n",
      "6        2763  Breast Cancer          4 days\n",
      "7        2770   Colon Cancer          6 days\n",
      "8        3095   Colon Cancer          3 days\n",
      "9        3449   Colon Cancer          4 days\n",
      "11       3757   Colon Cancer          5 days\n",
      "14       3948  Breast Cancer          4 days\n",
      "15       4256  Breast Cancer          5 days\n",
      "16       4354  Breast Cancer          5 days\n",
      "17       4374  Breast Cancer          5 days\n",
      "19       4692  Breast Cancer          3 days\n",
      "20       5259  Breast Cancer          4 days\n",
      "21       6281  Breast Cancer          4 days\n",
      "22       6321  Breast Cancer          4 days\n",
      "23       6837   Colon Cancer          5 days\n",
      "24       6877   Colon Cancer          7 days\n",
      "26       6922   Colon Cancer          7 days\n",
      "27       7230   Colon Cancer          7 days\n",
      "28       7242   Colon Cancer          6 days\n",
      "29       7796  Breast Cancer          5 days\n",
      "30       7976  Breast Cancer          5 days\n",
      "31       9331  Breast Cancer          6 days\n",
      "32       6889  Breast Cancer          5 days\n",
      "\n",
      "The average days before treatment for breast cancer patients is 5\n",
      "\n",
      "The average days before treatment for colon cancer patients is 5\n"
     ]
    }
   ],
   "source": [
    "# Get days before diagnosed patients get treated for patients\n",
    "# that are getting treatment. Filter them by cancer type and \n",
    "# get the average duration between diagnosis and treatment\n",
    "# for cancer type.\n",
    "\n",
    "first_treat_data = treat_data.drop_duplicates('PatientID')\n",
    "date_data = pd.merge(cancer_diag,first_treat_data,on='PatientID')\n",
    "date_data = date_data.drop_duplicates('PatientID')\n",
    "\n",
    "date_data['DaysToTreatment']=pd.to_datetime(date_data['TreatmentDate'])-pd.to_datetime(date_data['DiagnosisDate'])\n",
    "\n",
    "df = pd.DataFrame({\n",
    "    'PatientID':date_data['PatientID'],\n",
    "    'CancerType':date_data['Diagnosis'],\n",
    "    'DaysToTreatment':date_data['DaysToTreatment']\n",
    "})\n",
    "\n",
    "df=df[['PatientID','CancerType','DaysToTreatment']]\n",
    "print(df)\n",
    "\n",
    "bc_data = date_data[date_data['Diagnosis']=='Breast Cancer']\n",
    "avg_bc_days = bc_data['DaysToTreatment'].mean()\n",
    "\n",
    "cc_data = date_data[date_data['Diagnosis']=='Colon Cancer']\n",
    "avg_cc_days = cc_data['DaysToTreatment'].mean()\n",
    "\n",
    "print(\"\")\n",
    "print(\"The average days before treatment for breast cancer patients is\",avg_bc_days.days)\n",
    "print(\"\")\n",
    "print(\"The average days before treatment for colon cancer patients is\",avg_cc_days.days)"
   ]
  },
  {
   "cell_type": "code",
   "execution_count": 5,
   "metadata": {},
   "outputs": [
    {
     "name": "stdout",
     "output_type": "stream",
     "text": [
      "Number of patients not treated:\n",
      "6\n",
      "\n",
      "PatientID's for untreated patients:\n",
      "2634\n",
      "5657\n",
      "6840\n",
      "7937\n",
      "8615\n",
      "8827\n"
     ]
    }
   ],
   "source": [
    "# Get patients that are not treated\n",
    "\n",
    "patient_list = []\n",
    "treated_patients = treat_data['PatientID'].unique()\n",
    "\n",
    "for patient in diag_data['PatientID']:\n",
    "    if patient in treated_patients:\n",
    "        pass\n",
    "    else:\n",
    "        patient_list.append(patient)\n",
    "\n",
    "print(\"Number of patients not treated:\")\n",
    "print(len(patient_list))\n",
    "print(\"\")\n",
    "print(\"PatientID's for untreated patients:\")\n",
    "for patient in patient_list:\n",
    "    print(patient)"
   ]
  },
  {
   "cell_type": "code",
   "execution_count": 6,
   "metadata": {},
   "outputs": [
    {
     "name": "stdout",
     "output_type": "stream",
     "text": [
      "9 patients undergo a second line of treatment\n",
      "\n",
      "Percentage of patients undergoing second line of treatment is 32.14 %\n"
     ]
    }
   ],
   "source": [
    "# Get number of patients that undergo a second line\n",
    "# of therapy. Divide that by total number of unique\n",
    "# patients to get percentage of patients that require\n",
    "# a second line of treatment.\n",
    "\n",
    "grouped_data = treat_data.groupby(by=['PatientID'])['DrugCode'].unique()\n",
    "\n",
    "unq_patients = len(treat_data['PatientID'].unique())\n",
    "\n",
    "second_line_count = 0\n",
    "for name, group in treat_data.groupby(by=['PatientID']):\n",
    "    drugs = group.DrugCode.unique()\n",
    "    date_list = [list(group[group['DrugCode'] == d].TreatmentDate)[0] for d in drugs]\n",
    "    if len(date_list)==2:\n",
    "        if date_list[0]!=date_list[1]:\n",
    "            second_line_count+=1\n",
    "    elif len(date_list)==3:\n",
    "        if date_list[2]!=date_list[1]:\n",
    "            second_line_count+=1\n",
    "    else:\n",
    "        pass\n",
    "    \n",
    "\n",
    "print(second_line_count,\"patients undergo a second line of treatment\")\n",
    "print(\"\")\n",
    "print(\"Percentage of patients undergoing second line of treatment is\",str(round(second_line_count*100/unq_patients,2)),\"%\")\n",
    "\n"
   ]
  },
  {
   "cell_type": "code",
   "execution_count": 7,
   "metadata": {},
   "outputs": [
    {
     "name": "stdout",
     "output_type": "stream",
     "text": [
      "Drug A has an average treatment duration of 57 days\n",
      "Drug B has an average treatment duration of 58 days\n",
      "Drug C has an average treatment duration of 110 days\n"
     ]
    }
   ],
   "source": [
    "# Get average duration of treatment for each drug\n",
    "\n",
    "treat_data.sort_values(by=['PatientID','TreatmentDate'],inplace=True)\n",
    "\n",
    "druga_data = treat_data[treat_data['DrugCode']=='A']\n",
    "initial_druga = druga_data.drop_duplicates('PatientID',keep='first')\n",
    "last_druga = druga_data.drop_duplicates('PatientID',keep='last')\n",
    "\n",
    "a_ini_last_merge = pd.merge(initial_druga,last_druga,on='PatientID')\n",
    "\n",
    "a_ini_last_merge['TreatmentDatesDiff']=pd.to_datetime(a_ini_last_merge['TreatmentDate_y'])-pd.to_datetime(a_ini_last_merge['TreatmentDate_x'])\n",
    "\n",
    "drugb_data = treat_data[treat_data['DrugCode']=='B']\n",
    "initial_drugb = drugb_data.drop_duplicates('PatientID',keep='first')\n",
    "last_drugb = drugb_data.drop_duplicates('PatientID',keep='last')\n",
    "\n",
    "b_ini_last_merge = pd.merge(initial_drugb,last_drugb,on='PatientID')\n",
    "\n",
    "b_ini_last_merge['TreatmentDatesDiff']=pd.to_datetime(b_ini_last_merge['TreatmentDate_y'])-pd.to_datetime(b_ini_last_merge['TreatmentDate_x'])\n",
    "\n",
    "drugc_data = treat_data[treat_data['DrugCode']=='C']\n",
    "initial_drugc = drugc_data.drop_duplicates('PatientID',keep='first')\n",
    "last_drugc = drugc_data.drop_duplicates('PatientID',keep='last')\n",
    "\n",
    "c_ini_last_merge = pd.merge(initial_drugc,last_drugc,on='PatientID')\n",
    "\n",
    "c_ini_last_merge['TreatmentDatesDiff']=pd.to_datetime(c_ini_last_merge['TreatmentDate_y'])-pd.to_datetime(c_ini_last_merge['TreatmentDate_x'])\n",
    "\n",
    "print(\"Drug A has an average treatment duration of\",a_ini_last_merge['TreatmentDatesDiff'].mean().days,\"days\")\n",
    "print(\"Drug B has an average treatment duration of\",b_ini_last_merge['TreatmentDatesDiff'].mean().days,\"days\")\n",
    "print(\"Drug C has an average treatment duration of\",c_ini_last_merge['TreatmentDatesDiff'].mean().days,\"days\")"
   ]
  },
  {
   "cell_type": "code",
   "execution_count": null,
   "metadata": {
    "collapsed": true
   },
   "outputs": [],
   "source": []
  }
 ],
 "metadata": {
  "kernelspec": {
   "display_name": "Python 3",
   "language": "python",
   "name": "python3"
  },
  "language_info": {
   "codemirror_mode": {
    "name": "ipython",
    "version": 3
   },
   "file_extension": ".py",
   "mimetype": "text/x-python",
   "name": "python",
   "nbconvert_exporter": "python",
   "pygments_lexer": "ipython3",
   "version": "3.6.1"
  }
 },
 "nbformat": 4,
 "nbformat_minor": 2
}
